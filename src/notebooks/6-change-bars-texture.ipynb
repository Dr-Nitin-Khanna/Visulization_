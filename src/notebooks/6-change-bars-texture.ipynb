{
 "cells": [
  {
   "cell_type": "markdown",
   "metadata": {},
   "source": [
    "This example provides a reproducible code in which you can change the texture of the bars using the `set_hatch()` function of [matplotlib](http://python-graph-gallery.com/matplotlib/)."
   ]
  },
  {
   "cell_type": "code",
   "execution_count": 12,
   "metadata": {},
   "outputs": [
    {
     "data": {
      "image/png": "[encoded data removed]",
      "text/plain": [
       "<Figure size 432x288 with 1 Axes>"
      ]
     },
     "metadata": {
      "needs_background": "light"
     },
     "output_type": "display_data"
    }
   ],
   "source": [
    "# Libraries\n",
    "import numpy as np\n",
    "import matplotlib.pyplot as plt\n",
    " \n",
    "# Create dataset\n",
    "height = [2, 5, 4, 6]\n",
    "bars = ('A', 'B', 'C', 'D')\n",
    "x_pos = np.arange(len(bars))\n",
    " \n",
    "# Create bars\n",
    "figure = plt.bar(x_pos, height)\n",
    "\n",
    "# Define some hatches\n",
    "hatches = ['-', '/', '||', '///']\n",
    "\n",
    "# Loop over bars and assign hatches\n",
    "for bar, hatch in zip(figure, hatches):\n",
    "    bar.set_hatch(hatch)\n",
    "\n",
    "# Create names on the x-axis\n",
    "plt.xticks(x_pos, bars)\n",
    " \n",
    "# Show graphic\n",
    "plt.show()"
   ]
  }
 ],
 "metadata": {
  "chartType": "barplot",
  "description": "This post describes how to change the <b>textures of bars</b> in a basic barplot using <a href='https://python-graph-gallery.com/matplotlib/'>matplotlib</a>.",
  "family": "ranking",
  "kernelspec": {
   "display_name": "Python 3",
   "language": "python",
   "name": "python3"
  },
  "keywords": "python, chart, plot, seaborn, matplotlib, barplot, bar, texture, hatch",
  "language_info": {
   "codemirror_mode": {
    "name": "ipython",
    "version": 3
   },
   "file_extension": ".py",
   "mimetype": "text/x-python",
   "name": "python",
   "nbconvert_exporter": "python",
   "pygments_lexer": "ipython3",
   "version": "3.7.3"
  },
  "seoDescription": "Changing the texture of bars in a basic barplot using matplotlib",
  "slug": "6-change-bars-texture",
  "title": "Basic Barplot using Matplotlib"
 },
 "nbformat": 4,
 "nbformat_minor": 4
}
