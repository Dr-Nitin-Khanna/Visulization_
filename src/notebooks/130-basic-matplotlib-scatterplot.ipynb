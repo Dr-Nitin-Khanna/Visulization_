{
 "cells": [
  {
   "cell_type": "markdown",
   "metadata": {},
   "source": [
    "This is a **basic scatterplot** example made with the `plot()` function of [Matplotlib](http://python-graph-gallery.com/matplotlib/). These arguments are passed to the function:\n",
    "* `x` : x axis coordinates of the data points\n",
    "* `y` : y axis coordinates of the data points\n",
    "* `data` : an object with labelled data\n",
    "* `linestyle` : style of the lines between each point\n",
    "* `marker` : marker style of the points"
   ]
  },
  {
   "cell_type": "code",
   "execution_count": 4,
   "metadata": {},
   "outputs": [
    {
     "data": {
      "image/png": "[encoded data removed]",
      "text/plain": [
       "<Figure size 432x288 with 1 Axes>"
      ]
     },
     "metadata": {
      "needs_background": "light"
     },
     "output_type": "display_data"
    }
   ],
   "source": [
    "# libraries\n",
    "import matplotlib.pyplot as plt\n",
    "import numpy as np\n",
    "import pandas as pd\n",
    " \n",
    "# Create a dataset:\n",
    "df=pd.DataFrame({'x_values': range(1,101), 'y_values': np.random.randn(100)*15+range(1,101) })\n",
    " \n",
    "# plot\n",
    "plt.plot( 'x_values', 'y_values', data=df, linestyle='none', marker='o')\n",
    "plt.show()"
   ]
  }
 ],
 "metadata": {
  "chartType": "scatter",
  "description": "This post describes how to draw a basic scatterplot using <a href='https://python-graph-gallery.com/matplotlib/'>matplotlib</a> library. Once you understood the function, you can see the <a href='https://python-graph-gallery.com/131-custom-a-matplotlib-scatterplot/'>next post</a> to customise your scatterplot chart.",
  "family": "correlation",
  "kernelspec": {
   "display_name": "Python 3",
   "language": "python",
   "name": "python3"
  },
  "keywords": "python, chart, plot, seaborn, matplotlib, scatter",
  "language_info": {
   "codemirror_mode": {
    "name": "ipython",
    "version": 3
   },
   "file_extension": ".py",
   "mimetype": "text/x-python",
   "name": "python",
   "nbconvert_exporter": "python",
   "pygments_lexer": "ipython3",
   "version": "3.7.3"
  },
  "seoDescription": "Creating a basic scatterplot using matplotlib",
  "slug": "130-basic-matplotlib-scatterplot",
  "title": "Basic Matplotlib Scatterplot"
 },
 "nbformat": 4,
 "nbformat_minor": 4
}
