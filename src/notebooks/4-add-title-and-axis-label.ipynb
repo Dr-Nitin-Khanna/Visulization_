{
 "cells": [
  {
   "cell_type": "markdown",
   "source": [
    "In the following example, **title**, **x label** and **y label** are added to the [barplot](http://python-graph-gallery.com/barplot/) using the `title()`, `xlabel()`, and `ylabel()` functions of the [matplotlib](http://python-graph-gallery.com/matplotlib/) library. \n",
    "\n",
    "Those functions are applied to a barplot in the example, but the same method would work for other chart types."
   ],
   "metadata": {}
  },
  {
   "cell_type": "code",
   "execution_count": 3,
   "source": [
    "# libraries\n",
    "import numpy as np\n",
    "import matplotlib.pyplot as plt\n",
    " \n",
    "# create dataset\n",
    "height = [3, 12, 5, 18, 45]\n",
    "bars = ('A', 'B', 'C', 'D', 'E')\n",
    "x_pos = np.arange(len(bars))\n",
    " \n",
    "# Create bars and choose color\n",
    "plt.bar(x_pos, height, color = (0.5,0.1,0.5,0.6))\n",
    " \n",
    "# Add title and axis names\n",
    "plt.title('My title')\n",
    "plt.xlabel('categories')\n",
    "plt.ylabel('values')\n",
    " \n",
    "# Create names on the x axis\n",
    "plt.xticks(x_pos, bars)\n",
    " \n",
    "# Show graph\n",
    "plt.show()"
   ],
   "outputs": [
    {
     "output_type": "display_data",
     "data": {
      "text/plain": [
       "<Figure size 432x288 with 1 Axes>"
      ],
      "image/png": "[encoded data removed]"
     },
     "metadata": {
      "needs_background": "light"
     }
    }
   ],
   "metadata": {}
  },
  {
   "cell_type": "markdown",
   "source": [
    ">Note: the [matplotlib section](https://www.python-graph-gallery.com/matplotlib/) provides a lot of tips and tricks on how to customize a matplotlib chart!"
   ],
   "metadata": {}
  }
 ],
 "metadata": {
  "chartType": "barplot",
  "description": "In this post, you will see how to add a <b>title</b> and <b>axis labels</b> to your python charts using <a href='https://python-graph-gallery.com/matplotlib/'>matplotlib</a>. If you're new to python and want to get the basics of <code>matplotlib</code>, this <a target='_blank' href='https://datacamp.pxf.io/YgNDbR'>online course</a> can be interesting.",
  "family": "ranking",
  "kernelspec": {
   "display_name": "Python 3",
   "language": "python",
   "name": "python3"
  },
  "keywords": "python, chart, plot, seaborn, matplotlib, barplot, title, axis label",
  "language_info": {
   "codemirror_mode": {
    "name": "ipython",
    "version": 3
   },
   "file_extension": ".py",
   "mimetype": "text/x-python",
   "name": "python",
   "nbconvert_exporter": "python",
   "pygments_lexer": "ipython3",
   "version": "3.7.3"
  },
  "seoDescription": "Adding a title and axis labels to the charts using matplotlib",
  "slug": "4-add-title-and-axis-label",
  "title": "Add a title and axis labels to your charts using matplotlib"
 },
 "nbformat": 4,
 "nbformat_minor": 4
}