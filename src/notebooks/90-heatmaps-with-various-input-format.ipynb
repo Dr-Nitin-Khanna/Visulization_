{
 "cells": [
  {
   "cell_type": "markdown",
   "metadata": {},
   "source": [
    "## Wide Format (Untidy)"
   ]
  },
  {
   "cell_type": "markdown",
   "metadata": {},
   "source": [
    "The **wide format** (or the **untidy format**) is a matrix where each row is an individual, and each column is an observation. In this case, the heatmap makes a visual representation of the matrix: each square of the heatmap represents a cell. The color of the cell changes according to its value.\n",
    "In order to draw a heatmap with a wide format dataset, you can use the `heatmap()` function of seaborn. "
   ]
  },
  {
   "cell_type": "code",
   "execution_count": 5,
   "metadata": {},
   "outputs": [
    {
     "data": {
      "text/plain": [
       "<AxesSubplot:>"
      ]
     },
     "execution_count": 5,
     "metadata": {},
     "output_type": "execute_result"
    },
    {
     "data": {
      "image/png": "[encoded data removed]",
      "text/plain": [
       "<Figure size 432x288 with 2 Axes>"
      ]
     },
     "metadata": {
      "needs_background": "light"
     },
     "output_type": "display_data"
    }
   ],
   "source": [
    "# library\n",
    "import seaborn as sns\n",
    "import pandas as pd\n",
    "import numpy as np\n",
    " \n",
    "# Create a dataset\n",
    "df = pd.DataFrame(np.random.random((5,5)), columns=[\"a\",\"b\",\"c\",\"d\",\"e\"])\n",
    " \n",
    "# Default heatmap: just a visualization of this square matrix\n",
    "sns.heatmap(df)"
   ]
  },
  {
   "cell_type": "markdown",
   "metadata": {},
   "source": [
    "## Correlation Matrix (Square)"
   ]
  },
  {
   "cell_type": "markdown",
   "metadata": {},
   "source": [
    "Suppose you measured **several variables** for **n individuals**. A common task is to check if some variables are **correlated**. You can easily calculate the correlation between each pair of variable, and plot this as a **heatmap**. This lets you discover which variable is related to the other.  \n",
    "\n",
    "As a difference from the previous example, you will give a correlation matrix as an input instead of a wide format data."
   ]
  },
  {
   "cell_type": "code",
   "execution_count": 2,
   "metadata": {},
   "outputs": [
    {
     "data": {
      "text/plain": [
       "<AxesSubplot:>"
      ]
     },
     "execution_count": 2,
     "metadata": {},
     "output_type": "execute_result"
    },
    {
     "data": {
      "image/png": "[encoded data removed]",
      "text/plain": [
       "<Figure size 432x288 with 2 Axes>"
      ]
     },
     "metadata": {
      "needs_background": "light"
     },
     "output_type": "display_data"
    }
   ],
   "source": [
    "# library\n",
    "import seaborn as sns\n",
    "import pandas as pd\n",
    "import numpy as np\n",
    " \n",
    "# Create a dataset\n",
    "df = pd.DataFrame(np.random.random((100,5)), columns=[\"a\",\"b\",\"c\",\"d\",\"e\"])\n",
    " \n",
    "# Calculate correlation between each pair of variable\n",
    "corr_matrix=df.corr()\n",
    " \n",
    "# plot it\n",
    "sns.heatmap(corr_matrix, cmap='PuOr')"
   ]
  },
  {
   "cell_type": "markdown",
   "metadata": {},
   "source": [
    "Note that in this case, both correlations (i.e. from a to b and from b to a) will appear in the heatmap. You might want to plot a half of the heatmap using `mask` argument like this example:"
   ]
  },
  {
   "cell_type": "code",
   "execution_count": 5,
   "metadata": {},
   "outputs": [
    {
     "data": {
      "text/plain": [
       "<AxesSubplot:>"
      ]
     },
     "execution_count": 5,
     "metadata": {},
     "output_type": "execute_result"
    },
    {
     "data": {
      "image/png": "[encoded data removed]",
      "text/plain": [
       "<Figure size 432x288 with 2 Axes>"
      ]
     },
     "metadata": {
      "needs_background": "light"
     },
     "output_type": "display_data"
    }
   ],
   "source": [
    "# library\n",
    "import seaborn as sns\n",
    "import pandas as pd\n",
    "import numpy as np\n",
    "np.random.seed(0)\n",
    " \n",
    "# Create a dataset\n",
    "df = pd.DataFrame(np.random.random((100,5)), columns=[\"a\",\"b\",\"c\",\"d\",\"e\"])\n",
    "\n",
    "# Calculate correlation between each pair of variable\n",
    "corr_matrix=df.corr()\n",
    " \n",
    "# Can be great to plot only a half matrix\n",
    "# Generate a mask for the upper triangle\n",
    "mask = np.zeros_like(corr_matrix)\n",
    "mask[np.triu_indices_from(mask)] = True\n",
    "\n",
    "# Draw the heatmap with the mask\n",
    "sns.heatmap(corr_matrix, mask=mask, square=True)\n"
   ]
  },
  {
   "cell_type": "markdown",
   "metadata": {},
   "source": [
    "## Long Format (Tidy)"
   ]
  },
  {
   "cell_type": "markdown",
   "metadata": {},
   "source": [
    "In the **tidy** or **long** format, each line represents an observation. You have 3 columns: individual, variable name, and value (x, y and z). You can plot a heatmap from this kind of data as follow:"
   ]
  },
  {
   "cell_type": "code",
   "execution_count": 12,
   "metadata": {},
   "outputs": [
    {
     "data": {
      "text/plain": [
       "<AxesSubplot:xlabel='feature', ylabel='people'>"
      ]
     },
     "execution_count": 12,
     "metadata": {},
     "output_type": "execute_result"
    },
    {
     "data": {
      "image/png": "[encoded data removed]",
      "text/plain": [
       "<Figure size 432x288 with 2 Axes>"
      ]
     },
     "metadata": {
      "needs_background": "light"
     },
     "output_type": "display_data"
    }
   ],
   "source": [
    "# library\n",
    "import seaborn as sns\n",
    "import pandas as pd\n",
    "import numpy as np\n",
    " \n",
    "# Create long format\n",
    "people = np.repeat((\"A\",\"B\",\"C\",\"D\",\"E\"),5)\n",
    "feature = list(range(1,6))*5\n",
    "value = np.random.random(25)\n",
    "df = pd.DataFrame({'feature': feature, 'people': people, 'value': value })\n",
    "\n",
    "# Turn long format into a wide format\n",
    "df_wide = df.pivot_table( index='people', columns='feature', values='value')\n",
    "\n",
    "# plot it\n",
    "sns.heatmap(df_wide)\n"
   ]
  }
 ],
 "metadata": {
  "chartType": "heatmap",
  "description": "This post explains how to make <b>heatmaps</b> using <a href='http://python-graph-gallery.com/seaborn/'>seaborn</a>. Three main types of input exist to plot a heatmap: <b>wide format</b>, <b>correlation matrix</b>, and <b>long format</b>.",
  "family": "correlation",
  "kernelspec": {
   "display_name": "Python 3",
   "language": "python",
   "name": "python3"
  },
  "keywords": "python, chart, plot, seaborn, matplotlib, heatmap",
  "language_info": {
   "codemirror_mode": {
    "name": "ipython",
    "version": 3
   },
   "file_extension": ".py",
   "mimetype": "text/x-python",
   "name": "python",
   "nbconvert_exporter": "python",
   "pygments_lexer": "ipython3",
   "version": "3.7.3"
  },
  "seoDescription": "Plotting a heatmap with seaborn using different types of inputs",
  "slug": "90-heatmaps-with-various-input-format",
  "title": "Heatmaps with various input formats"
 },
 "nbformat": 4,
 "nbformat_minor": 4
}
