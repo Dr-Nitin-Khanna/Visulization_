{
 "cells": [
  {
   "cell_type": "markdown",
   "metadata": {},
   "source": [
    "## Control Space"
   ]
  },
  {
   "cell_type": "markdown",
   "metadata": {},
   "source": [
    "In order to control the space between bars, you can specify the positions of bars in the x axis. This way, you will be able to control the spaces."
   ]
  },
  {
   "cell_type": "code",
   "execution_count": 1,
   "metadata": {},
   "outputs": [
    {
     "data": {
      "image/png": "[encoded data removed]",
      "text/plain": [
       "<Figure size 432x288 with 1 Axes>"
      ]
     },
     "metadata": {
      "needs_background": "light"
     },
     "output_type": "display_data"
    }
   ],
   "source": [
    "# library\n",
    "import matplotlib.pyplot as plt\n",
    " \n",
    "# create dataset\n",
    "height = [3, 12, 5, 18, 45]\n",
    "bars = ('A', 'B', 'C', 'D', 'E')\n",
    " \n",
    "# Choose the position of each barplots on the x-axis (space=1,4,3,1)\n",
    "x_pos = [0,1,5,8,9]\n",
    " \n",
    "# Create bars\n",
    "plt.bar(x_pos, height)\n",
    " \n",
    "# Create names on the x-axis\n",
    "plt.xticks(x_pos, bars)\n",
    " \n",
    "# Show graphic\n",
    "plt.show()"
   ]
  },
  {
   "cell_type": "markdown",
   "metadata": {},
   "source": [
    "## Control Width"
   ]
  },
  {
   "cell_type": "markdown",
   "metadata": {},
   "source": [
    "The width of the bars can be controlled by `width` argument of the `bar()` function."
   ]
  },
  {
   "cell_type": "code",
   "execution_count": 3,
   "metadata": {},
   "outputs": [
    {
     "data": {
      "image/png": "[encoded data removed]",
      "text/plain": [
       "<Figure size 432x288 with 1 Axes>"
      ]
     },
     "metadata": {
      "needs_background": "light"
     },
     "output_type": "display_data"
    }
   ],
   "source": [
    "# library\n",
    "import matplotlib.pyplot as plt\n",
    " \n",
    "# create dataset\n",
    "height = [3, 12, 5, 18, 45]\n",
    "bars = ('A', 'B', 'C', 'D', 'E')\n",
    "\n",
    "# Choose the width of each bar and their positions\n",
    "width = [0.1,0.2,3,1.5,0.3]\n",
    "x_pos = [0,0.3,2,4.5,5.5]\n",
    " \n",
    "# Make the plot\n",
    "plt.bar(x_pos, height, width=width)\n",
    "\n",
    "# Create names on the x-axis\n",
    "plt.xticks(x_pos, bars)\n",
    " \n",
    "# Show graphic\n",
    "plt.show()"
   ]
  }
 ],
 "metadata": {
  "chartType": "barplot",
  "description": "This post explains how to control <b>width</b> of bars in a barplot and how to control <b>space</b> between them using <a href='https://python-graph-gallery.com/matplotlib/'>matplotlib</a> library.",
  "family": "ranking",
  "kernelspec": {
   "display_name": "Python 3",
   "language": "python",
   "name": "python3"
  },
  "keywords": "python, chart, plot, seaborn, matplotlib, barplot, width, space",
  "language_info": {
   "codemirror_mode": {
    "name": "ipython",
    "version": 3
   },
   "file_extension": ".py",
   "mimetype": "text/x-python",
   "name": "python",
   "nbconvert_exporter": "python",
   "pygments_lexer": "ipython3",
   "version": "3.7.3"
  },
  "seoDescription": "Controlling the width of bars and space between bars in a barplot using matplotlib",
  "slug": "5-control-width-and-space-in-barplots",
  "title": "Control width and space in barplots using matplotlib"
 },
 "nbformat": 4,
 "nbformat_minor": 4
}
